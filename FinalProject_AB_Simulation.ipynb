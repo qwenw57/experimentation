{
  "nbformat": 4,
  "nbformat_minor": 0,
  "metadata": {
    "colab": {
      "name": "ec626_final_qingwenwang.ipynb",
      "provenance": [],
      "collapsed_sections": [],
      "authorship_tag": "ABX9TyOPcX6jsJcePTSfkHpsfKZV",
      "include_colab_link": true
    },
    "kernelspec": {
      "name": "python3",
      "display_name": "Python 3"
    }
  },
  "cells": [
    {
      "cell_type": "markdown",
      "metadata": {
        "id": "view-in-github",
        "colab_type": "text"
      },
      "source": [
        "<a href=\"https://colab.research.google.com/github/qwenw57/experimentation/blob/master/FinalProject_AB_Simulation.ipynb\" target=\"_parent\"><img src=\"https://colab.research.google.com/assets/colab-badge.svg\" alt=\"Open In Colab\"/></a>"
      ]
    },
    {
      "cell_type": "code",
      "metadata": {
        "id": "HT60NFKxGi2x"
      },
      "source": [
        "%matplotlib inline\n",
        "from google.colab import files\n",
        "from functools import partial\n",
        "import pandas as pd\n",
        "import numpy as np\n",
        "import matplotlib as mpl\n",
        "import matplotlib.pyplot as plt\n",
        "import scipy.special\n",
        "import statsmodels.formula.api as sfa\n",
        "import scipy.stats\n",
        "import statsmodels.stats.power as power\n",
        "from functools import partial\n",
        "from progressbar import progressbar\n",
        "\n",
        "mpl.rcParams['figure.dpi'] = 100\n",
        "plt.style.use('seaborn-dark')\n",
        "np.random.seed(94115)"
      ],
      "execution_count": null,
      "outputs": []
    },
    {
      "cell_type": "code",
      "metadata": {
        "id": "Yl0-SNYeZ5ZZ"
      },
      "source": [
        "np.random.seed(94115)\n",
        "\n",
        "N = 1600\n",
        "\n",
        "# Each child's family on has an individual level of \"econ_status\".\n",
        "# We'll model this charitability as being normally distributed.\n",
        "econ_status = np.random.normal(loc=0, scale=0.5, size=N)\n",
        "pro_status= []\n",
        "label = []\n",
        "for i in econ_status: \n",
        "  if i < -0.34: pro_status.append(0.25), label.append('low')\n",
        "  if -0.34<i<0.3: pro_status.append(0.5), label.append('medium')\n",
        "  if i>0.3: pro_status.append(0.75), label.append('high')\n",
        "\n",
        "ATE = 0.8\n",
        "Y0 = np.random.lognormal(mean=(econ_status + 0.5), sigma=0.1, size=N)\n",
        "Y1 = Y0.copy()+ ATE\n",
        "\n",
        "#pro_econ_status = scipy.special.expit(econ_status)\n",
        "D = np.random.binomial(n=1, p=pro_status)\n",
        "\n",
        "# Calculate the *actual* outcome.\n",
        "Y = Y1 * D + Y0 * (1 - D)\n",
        "\n",
        "# Put the data together for analysis.\n",
        "df = pd.DataFrame({\n",
        "    'D': D,\n",
        "    'Y0': Y0, \n",
        "    'Y1': Y1, \n",
        "    'Y': Y,\n",
        "    'y1-y0': Y1 - Y0,\n",
        "    'econ_status': econ_status,\n",
        "    'econ_status_label': label\n",
        "})"
      ],
      "execution_count": null,
      "outputs": []
    },
    {
      "cell_type": "code",
      "metadata": {
        "id": "6MtlfeqQrcoP",
        "outputId": "310d4525-3a73-412a-b3ac-7a0a4442f61f",
        "colab": {
          "base_uri": "https://localhost:8080/",
          "height": 407
        }
      },
      "source": [
        "df"
      ],
      "execution_count": null,
      "outputs": [
        {
          "output_type": "execute_result",
          "data": {
            "text/html": [
              "<div>\n",
              "<style scoped>\n",
              "    .dataframe tbody tr th:only-of-type {\n",
              "        vertical-align: middle;\n",
              "    }\n",
              "\n",
              "    .dataframe tbody tr th {\n",
              "        vertical-align: top;\n",
              "    }\n",
              "\n",
              "    .dataframe thead th {\n",
              "        text-align: right;\n",
              "    }\n",
              "</style>\n",
              "<table border=\"1\" class=\"dataframe\">\n",
              "  <thead>\n",
              "    <tr style=\"text-align: right;\">\n",
              "      <th></th>\n",
              "      <th>D</th>\n",
              "      <th>Y0</th>\n",
              "      <th>Y1</th>\n",
              "      <th>Y</th>\n",
              "      <th>y1-y0</th>\n",
              "      <th>econ_status</th>\n",
              "      <th>econ_status_label</th>\n",
              "    </tr>\n",
              "  </thead>\n",
              "  <tbody>\n",
              "    <tr>\n",
              "      <th>0</th>\n",
              "      <td>0</td>\n",
              "      <td>2.229693</td>\n",
              "      <td>3.029693</td>\n",
              "      <td>2.229693</td>\n",
              "      <td>0.8</td>\n",
              "      <td>0.276648</td>\n",
              "      <td>medium</td>\n",
              "    </tr>\n",
              "    <tr>\n",
              "      <th>1</th>\n",
              "      <td>0</td>\n",
              "      <td>0.737154</td>\n",
              "      <td>1.537154</td>\n",
              "      <td>0.737154</td>\n",
              "      <td>0.8</td>\n",
              "      <td>-0.724951</td>\n",
              "      <td>low</td>\n",
              "    </tr>\n",
              "    <tr>\n",
              "      <th>2</th>\n",
              "      <td>1</td>\n",
              "      <td>2.658408</td>\n",
              "      <td>3.458408</td>\n",
              "      <td>3.458408</td>\n",
              "      <td>0.8</td>\n",
              "      <td>0.501950</td>\n",
              "      <td>high</td>\n",
              "    </tr>\n",
              "    <tr>\n",
              "      <th>3</th>\n",
              "      <td>0</td>\n",
              "      <td>1.600921</td>\n",
              "      <td>2.400921</td>\n",
              "      <td>1.600921</td>\n",
              "      <td>0.8</td>\n",
              "      <td>0.029863</td>\n",
              "      <td>medium</td>\n",
              "    </tr>\n",
              "    <tr>\n",
              "      <th>4</th>\n",
              "      <td>0</td>\n",
              "      <td>1.222128</td>\n",
              "      <td>2.022128</td>\n",
              "      <td>1.222128</td>\n",
              "      <td>0.8</td>\n",
              "      <td>-0.283706</td>\n",
              "      <td>medium</td>\n",
              "    </tr>\n",
              "    <tr>\n",
              "      <th>...</th>\n",
              "      <td>...</td>\n",
              "      <td>...</td>\n",
              "      <td>...</td>\n",
              "      <td>...</td>\n",
              "      <td>...</td>\n",
              "      <td>...</td>\n",
              "      <td>...</td>\n",
              "    </tr>\n",
              "    <tr>\n",
              "      <th>1595</th>\n",
              "      <td>1</td>\n",
              "      <td>1.726591</td>\n",
              "      <td>2.526591</td>\n",
              "      <td>2.526591</td>\n",
              "      <td>0.8</td>\n",
              "      <td>0.065007</td>\n",
              "      <td>medium</td>\n",
              "    </tr>\n",
              "    <tr>\n",
              "      <th>1596</th>\n",
              "      <td>1</td>\n",
              "      <td>2.061011</td>\n",
              "      <td>2.861011</td>\n",
              "      <td>2.861011</td>\n",
              "      <td>0.8</td>\n",
              "      <td>0.162726</td>\n",
              "      <td>medium</td>\n",
              "    </tr>\n",
              "    <tr>\n",
              "      <th>1597</th>\n",
              "      <td>1</td>\n",
              "      <td>2.477428</td>\n",
              "      <td>3.277428</td>\n",
              "      <td>3.277428</td>\n",
              "      <td>0.8</td>\n",
              "      <td>0.326658</td>\n",
              "      <td>high</td>\n",
              "    </tr>\n",
              "    <tr>\n",
              "      <th>1598</th>\n",
              "      <td>1</td>\n",
              "      <td>1.553691</td>\n",
              "      <td>2.353691</td>\n",
              "      <td>2.353691</td>\n",
              "      <td>0.8</td>\n",
              "      <td>-0.020610</td>\n",
              "      <td>medium</td>\n",
              "    </tr>\n",
              "    <tr>\n",
              "      <th>1599</th>\n",
              "      <td>1</td>\n",
              "      <td>1.897107</td>\n",
              "      <td>2.697107</td>\n",
              "      <td>2.697107</td>\n",
              "      <td>0.8</td>\n",
              "      <td>0.126847</td>\n",
              "      <td>medium</td>\n",
              "    </tr>\n",
              "  </tbody>\n",
              "</table>\n",
              "<p>1600 rows × 7 columns</p>\n",
              "</div>"
            ],
            "text/plain": [
              "      D        Y0        Y1         Y  y1-y0  econ_status econ_status_label\n",
              "0     0  2.229693  3.029693  2.229693    0.8     0.276648            medium\n",
              "1     0  0.737154  1.537154  0.737154    0.8    -0.724951               low\n",
              "2     1  2.658408  3.458408  3.458408    0.8     0.501950              high\n",
              "3     0  1.600921  2.400921  1.600921    0.8     0.029863            medium\n",
              "4     0  1.222128  2.022128  1.222128    0.8    -0.283706            medium\n",
              "...  ..       ...       ...       ...    ...          ...               ...\n",
              "1595  1  1.726591  2.526591  2.526591    0.8     0.065007            medium\n",
              "1596  1  2.061011  2.861011  2.861011    0.8     0.162726            medium\n",
              "1597  1  2.477428  3.277428  3.277428    0.8     0.326658              high\n",
              "1598  1  1.553691  2.353691  2.353691    0.8    -0.020610            medium\n",
              "1599  1  1.897107  2.697107  2.697107    0.8     0.126847            medium\n",
              "\n",
              "[1600 rows x 7 columns]"
            ]
          },
          "metadata": {
            "tags": []
          },
          "execution_count": 3
        }
      ]
    },
    {
      "cell_type": "code",
      "metadata": {
        "id": "JWFefuOtXJTk",
        "outputId": "f0b14a8b-c31b-4cdf-efee-23e297c4daa3",
        "colab": {
          "base_uri": "https://localhost:8080/",
          "height": 304
        }
      },
      "source": [
        "column_to_plot = 'Y0'\n",
        "ax = df.query('D==0')[column_to_plot].hist(bins = 50, alpha=0.5, density=True, label='D = 0')\n",
        "ax = df.query('D==1')[column_to_plot].hist( bins= 50, alpha=0.5, density=True, ax=ax, label='D = 1')\n",
        "ax.legend(fontsize=16)\n",
        "ax.set_xlabel(column_to_plot, fontsize=16)\n",
        "ax.set_ylabel('Density', fontsize=16)\n",
        "ax.set_title(\"Figure 1: Density of {} by treatment group\".format(column_to_plot), fontsize=16)\n",
        "ax.tick_params(labelsize=16)\n"
      ],
      "execution_count": null,
      "outputs": [
        {
          "output_type": "display_data",
          "data": {
            "image/png": "[encoded data removed]",
            "text/plain": [
              "<Figure size 432x288 with 1 Axes>"
            ]
          },
          "metadata": {
            "tags": [],
            "needs_background": "light"
          }
        }
      ]
    },
    {
      "cell_type": "code",
      "metadata": {
        "id": "4sWi0-VXd6yH",
        "outputId": "a76e633d-4d43-4346-944f-d191e6f92168",
        "colab": {
          "base_uri": "https://localhost:8080/",
          "height": 86
        }
      },
      "source": [
        "df['Y'].mean()\n",
        "\n",
        "# Calculate E[Y0 | D=0]​ Problem Set 1\n",
        "\n",
        "print(\"E[Y0|D=0] = {}\".format(df.query(\"D == 0\")['Y0'].mean()))\n",
        "\n",
        "print(\"E[Y1|D=1] = {}\".format(df.query(\"D == 1\")['Y1'].mean()))\n",
        "\n",
        "print(\"E[Y1|D=1] - E[Y0|D=0] = {}\".format(df.query(\"D == 1\")['Y1'].mean() - df.query(\"D == 0\")['Y0'].mean()))\n",
        "print(\"E[Y0|D=1] - E[Y0|D=0] = {}\".format(df.query(\"D == 1\")['Y0'].mean() - df.query(\"D == 0\")['Y0'].mean()))"
      ],
      "execution_count": null,
      "outputs": [
        {
          "output_type": "stream",
          "text": [
            "E[Y0|D=0] = 1.6157728102218414\n",
            "E[Y1|D=1] = 2.932021730108892\n",
            "E[Y1|D=1] - E[Y0|D=0] = 1.3162489198870508\n",
            "E[Y0|D=1] - E[Y0|D=0] = 0.5162489198870492\n"
          ],
          "name": "stdout"
        }
      ]
    },
    {
      "cell_type": "code",
      "metadata": {
        "id": "DSIX16octxSm",
        "outputId": "f4e087b7-9f56-4990-aa00-96e66c60160e",
        "colab": {
          "base_uri": "https://localhost:8080/",
          "height": 466
        }
      },
      "source": [
        "r = sfa.ols(\"Y ~ D\", df).fit(cov_type='HC1')\n",
        "\n",
        "print(\"Estimate of ATE = {:.5f}\".format(r.params['D']))\n",
        "print(r.summary(yname=\"Conversion\"))"
      ],
      "execution_count": null,
      "outputs": [
        {
          "output_type": "stream",
          "text": [
            "Estimate of ATE = 1.31625\n",
            "                            OLS Regression Results                            \n",
            "==============================================================================\n",
            "Dep. Variable:             Conversion   R-squared:                       0.313\n",
            "Model:                            OLS   Adj. R-squared:                  0.313\n",
            "Method:                 Least Squares   F-statistic:                     753.0\n",
            "Date:                Mon, 19 Oct 2020   Prob (F-statistic):          3.73e-136\n",
            "Time:                        17:23:54   Log-Likelihood:                -2224.5\n",
            "No. Observations:                1600   AIC:                             4453.\n",
            "Df Residuals:                    1598   BIC:                             4464.\n",
            "Df Model:                           1                                         \n",
            "Covariance Type:                  HC1                                         \n",
            "==============================================================================\n",
            "                 coef    std err          z      P>|z|      [0.025      0.975]\n",
            "------------------------------------------------------------------------------\n",
            "Intercept      1.6158      0.032     51.105      0.000       1.554       1.678\n",
            "D              1.3162      0.048     27.441      0.000       1.222       1.410\n",
            "==============================================================================\n",
            "Omnibus:                      615.406   Durbin-Watson:                   2.024\n",
            "Prob(Omnibus):                  0.000   Jarque-Bera (JB):             2933.042\n",
            "Skew:                           1.774   Prob(JB):                         0.00\n",
            "Kurtosis:                       8.605   Cond. No.                         2.72\n",
            "==============================================================================\n",
            "\n",
            "Warnings:\n",
            "[1] Standard Errors are heteroscedasticity robust (HC1)\n"
          ],
          "name": "stdout"
        }
      ]
    },
    {
      "cell_type": "code",
      "metadata": {
        "id": "N19veb61wxSE",
        "outputId": "a06a257b-4db1-4156-d718-f73ebe6684b1",
        "colab": {
          "base_uri": "https://localhost:8080/",
          "height": 501
        }
      },
      "source": [
        "r = sfa.ols(\"Y ~ D + C(econ_status_label)\", df).fit(cov_type='HC1')\n",
        "\n",
        "print(\"Estimate of ATE = {:.5f}\".format(r.params['D']))\n",
        "print(r.summary(yname=\"Conversion\"))"
      ],
      "execution_count": null,
      "outputs": [
        {
          "output_type": "stream",
          "text": [
            "Estimate of ATE = 0.78391\n",
            "                            OLS Regression Results                            \n",
            "==============================================================================\n",
            "Dep. Variable:             Conversion   R-squared:                       0.753\n",
            "Model:                            OLS   Adj. R-squared:                  0.753\n",
            "Method:                 Least Squares   F-statistic:                     1968.\n",
            "Date:                Mon, 19 Oct 2020   Prob (F-statistic):               0.00\n",
            "Time:                        17:23:57   Log-Likelihood:                -1404.7\n",
            "No. Observations:                1600   AIC:                             2817.\n",
            "Df Residuals:                    1596   BIC:                             2839.\n",
            "Df Model:                           3                                         \n",
            "Covariance Type:                  HC1                                         \n",
            "==================================================================================================\n",
            "                                     coef    std err          z      P>|z|      [0.025      0.975]\n",
            "--------------------------------------------------------------------------------------------------\n",
            "Intercept                          3.1371      0.049     63.804      0.000       3.041       3.233\n",
            "C(econ_status_label)[T.low]       -2.2046      0.048    -45.642      0.000      -2.299      -2.110\n",
            "C(econ_status_label)[T.medium]    -1.4712      0.048    -30.721      0.000      -1.565      -1.377\n",
            "D                                  0.7839      0.028     27.973      0.000       0.729       0.839\n",
            "==============================================================================\n",
            "Omnibus:                     1088.429   Durbin-Watson:                   2.026\n",
            "Prob(Omnibus):                  0.000   Jarque-Bera (JB):            25736.941\n",
            "Skew:                           2.833   Prob(JB):                         0.00\n",
            "Kurtosis:                      21.814   Cond. No.                         5.35\n",
            "==============================================================================\n",
            "\n",
            "Warnings:\n",
            "[1] Standard Errors are heteroscedasticity robust (HC1)\n"
          ],
          "name": "stdout"
        }
      ]
    },
    {
      "cell_type": "code",
      "metadata": {
        "id": "xgkalNkN1o2A"
      },
      "source": [
        ""
      ],
      "execution_count": null,
      "outputs": []
    },
    {
      "cell_type": "code",
      "metadata": {
        "id": "McTPmYvL1pZV"
      },
      "source": [
        "def diff(N = 1600, ATE = 0.8):\n",
        "  params = locals().copy()\n",
        "\n",
        "  # Each child's family on has an individual level of \"econ_status\".\n",
        "  # We'll model this charitability as being normally distributed.\n",
        "  econ_status = np.random.normal(loc=0, scale=0.5, size=N)\n",
        "  pro_status= []\n",
        "  label = []\n",
        "  for i in econ_status: \n",
        "    if i < -0.34: pro_status.append(0.25), label.append('low')\n",
        "    if -0.34<i<0.3: pro_status.append(0.5), label.append('medium')\n",
        "    if i>0.3: pro_status.append(0.75), label.append('high')\n",
        "\n",
        "  ATE = 0.8\n",
        "  Y0 = np.random.lognormal(mean=(econ_status + 0.5), sigma=0.1, size=N)\n",
        "  Y1 = Y0.copy()+ ATE\n",
        "\n",
        "  #pro_econ_status = scipy.special.expit(econ_status)\n",
        "  D = np.random.binomial(n=1, p= 0.5)\n",
        "\n",
        "  # Calculate the *actual* outcome.\n",
        "  Y = Y1 * D + Y0 * (1 - D)\n",
        "\n",
        "  # Put the data together for analysis.\n",
        "  df = pd.DataFrame({\n",
        "      'D': D,\n",
        "      'Y0': Y0, \n",
        "      'Y1': Y1, \n",
        "      'Y': Y,\n",
        "      'y1-y0': Y1 - Y0,\n",
        "      'econ_status': econ_status,\n",
        "      'econ_status_label': label\n",
        "  })\n",
        "\n",
        "\n",
        "  r = sfa.ols(\"Y ~ D + C(econ_status_label)\", df).fit(cov_type='HC1')\n",
        "  diffs = {\n",
        "      'difference': r.params['D'],\n",
        "      'se': r.bse['D'] ,\n",
        "      'p': r.pvalues['D'],\n",
        "      'nate' :df.query(\"D == 1\")['Y1'].mean() - df.query(\"D == 0\")['Y0'].mean(),\n",
        "      'sb' : df.query(\"D == 1\")['Y0'].mean() - df.query(\"D == 0\")['Y0'].mean(),\n",
        "  }\n",
        "  diffs.update(params)\n",
        "  return diffs"
      ],
      "execution_count": null,
      "outputs": []
    },
    {
      "cell_type": "code",
      "metadata": {
        "id": "fMX9sXPS1pb1"
      },
      "source": [
        "checks = pd.DataFrame([diff(N=N) for _ in np.arange(0, 10) for N in np.arange(100, 10000, 100)])"
      ],
      "execution_count": null,
      "outputs": []
    },
    {
      "cell_type": "code",
      "metadata": {
        "id": "GsWGu0km1peI",
        "outputId": "a45b4976-80f8-4e33-986f-6fc1b626054a",
        "colab": {
          "base_uri": "https://localhost:8080/",
          "height": 407
        }
      },
      "source": [
        "checks"
      ],
      "execution_count": null,
      "outputs": [
        {
          "output_type": "execute_result",
          "data": {
            "text/html": [
              "<div>\n",
              "<style scoped>\n",
              "    .dataframe tbody tr th:only-of-type {\n",
              "        vertical-align: middle;\n",
              "    }\n",
              "\n",
              "    .dataframe tbody tr th {\n",
              "        vertical-align: top;\n",
              "    }\n",
              "\n",
              "    .dataframe thead th {\n",
              "        text-align: right;\n",
              "    }\n",
              "</style>\n",
              "<table border=\"1\" class=\"dataframe\">\n",
              "  <thead>\n",
              "    <tr style=\"text-align: right;\">\n",
              "      <th></th>\n",
              "      <th>difference</th>\n",
              "      <th>se</th>\n",
              "      <th>p</th>\n",
              "      <th>nate</th>\n",
              "      <th>sb</th>\n",
              "      <th>ATE</th>\n",
              "      <th>N</th>\n",
              "    </tr>\n",
              "  </thead>\n",
              "  <tbody>\n",
              "    <tr>\n",
              "      <th>0</th>\n",
              "      <td>1.975374e+00</td>\n",
              "      <td>9.715011e-02</td>\n",
              "      <td>6.538172e-92</td>\n",
              "      <td>NaN</td>\n",
              "      <td>NaN</td>\n",
              "      <td>0.8</td>\n",
              "      <td>100</td>\n",
              "    </tr>\n",
              "    <tr>\n",
              "      <th>1</th>\n",
              "      <td>1.892103e+00</td>\n",
              "      <td>5.789472e-02</td>\n",
              "      <td>2.833411e-234</td>\n",
              "      <td>NaN</td>\n",
              "      <td>NaN</td>\n",
              "      <td>0.8</td>\n",
              "      <td>200</td>\n",
              "    </tr>\n",
              "    <tr>\n",
              "      <th>2</th>\n",
              "      <td>0.000000e+00</td>\n",
              "      <td>0.000000e+00</td>\n",
              "      <td>NaN</td>\n",
              "      <td>NaN</td>\n",
              "      <td>NaN</td>\n",
              "      <td>0.8</td>\n",
              "      <td>300</td>\n",
              "    </tr>\n",
              "    <tr>\n",
              "      <th>3</th>\n",
              "      <td>0.000000e+00</td>\n",
              "      <td>0.000000e+00</td>\n",
              "      <td>NaN</td>\n",
              "      <td>NaN</td>\n",
              "      <td>NaN</td>\n",
              "      <td>0.8</td>\n",
              "      <td>400</td>\n",
              "    </tr>\n",
              "    <tr>\n",
              "      <th>4</th>\n",
              "      <td>2.027440e+00</td>\n",
              "      <td>5.671095e-02</td>\n",
              "      <td>6.519261e-280</td>\n",
              "      <td>NaN</td>\n",
              "      <td>NaN</td>\n",
              "      <td>0.8</td>\n",
              "      <td>500</td>\n",
              "    </tr>\n",
              "    <tr>\n",
              "      <th>...</th>\n",
              "      <td>...</td>\n",
              "      <td>...</td>\n",
              "      <td>...</td>\n",
              "      <td>...</td>\n",
              "      <td>...</td>\n",
              "      <td>...</td>\n",
              "      <td>...</td>\n",
              "    </tr>\n",
              "    <tr>\n",
              "      <th>985</th>\n",
              "      <td>0.000000e+00</td>\n",
              "      <td>0.000000e+00</td>\n",
              "      <td>NaN</td>\n",
              "      <td>NaN</td>\n",
              "      <td>NaN</td>\n",
              "      <td>0.8</td>\n",
              "      <td>9500</td>\n",
              "    </tr>\n",
              "    <tr>\n",
              "      <th>986</th>\n",
              "      <td>-7.596558e+11</td>\n",
              "      <td>7.866334e+11</td>\n",
              "      <td>3.341919e-01</td>\n",
              "      <td>NaN</td>\n",
              "      <td>NaN</td>\n",
              "      <td>0.8</td>\n",
              "      <td>9600</td>\n",
              "    </tr>\n",
              "    <tr>\n",
              "      <th>987</th>\n",
              "      <td>1.983415e+00</td>\n",
              "      <td>9.824626e-03</td>\n",
              "      <td>0.000000e+00</td>\n",
              "      <td>NaN</td>\n",
              "      <td>NaN</td>\n",
              "      <td>0.8</td>\n",
              "      <td>9700</td>\n",
              "    </tr>\n",
              "    <tr>\n",
              "      <th>988</th>\n",
              "      <td>0.000000e+00</td>\n",
              "      <td>0.000000e+00</td>\n",
              "      <td>NaN</td>\n",
              "      <td>NaN</td>\n",
              "      <td>NaN</td>\n",
              "      <td>0.8</td>\n",
              "      <td>9800</td>\n",
              "    </tr>\n",
              "    <tr>\n",
              "      <th>989</th>\n",
              "      <td>2.751698e+12</td>\n",
              "      <td>2.700641e+12</td>\n",
              "      <td>3.082478e-01</td>\n",
              "      <td>NaN</td>\n",
              "      <td>NaN</td>\n",
              "      <td>0.8</td>\n",
              "      <td>9900</td>\n",
              "    </tr>\n",
              "  </tbody>\n",
              "</table>\n",
              "<p>990 rows × 7 columns</p>\n",
              "</div>"
            ],
            "text/plain": [
              "       difference            se              p  nate  sb  ATE     N\n",
              "0    1.975374e+00  9.715011e-02   6.538172e-92   NaN NaN  0.8   100\n",
              "1    1.892103e+00  5.789472e-02  2.833411e-234   NaN NaN  0.8   200\n",
              "2    0.000000e+00  0.000000e+00            NaN   NaN NaN  0.8   300\n",
              "3    0.000000e+00  0.000000e+00            NaN   NaN NaN  0.8   400\n",
              "4    2.027440e+00  5.671095e-02  6.519261e-280   NaN NaN  0.8   500\n",
              "..            ...           ...            ...   ...  ..  ...   ...\n",
              "985  0.000000e+00  0.000000e+00            NaN   NaN NaN  0.8  9500\n",
              "986 -7.596558e+11  7.866334e+11   3.341919e-01   NaN NaN  0.8  9600\n",
              "987  1.983415e+00  9.824626e-03   0.000000e+00   NaN NaN  0.8  9700\n",
              "988  0.000000e+00  0.000000e+00            NaN   NaN NaN  0.8  9800\n",
              "989  2.751698e+12  2.700641e+12   3.082478e-01   NaN NaN  0.8  9900\n",
              "\n",
              "[990 rows x 7 columns]"
            ]
          },
          "metadata": {
            "tags": []
          },
          "execution_count": 30
        }
      ]
    },
    {
      "cell_type": "code",
      "metadata": {
        "id": "z2RkCE0l_T0C",
        "outputId": "3d72075e-a9b3-497c-999f-c79cf2281511",
        "colab": {
          "base_uri": "https://localhost:8080/",
          "height": 242
        }
      },
      "source": [
        "checks.groupby('N')['difference'].mean()"
      ],
      "execution_count": null,
      "outputs": [
        {
          "output_type": "execute_result",
          "data": {
            "text/plain": [
              "N\n",
              "100     1.380343e+00\n",
              "200     1.172550e+00\n",
              "300     5.794439e-01\n",
              "400     1.016864e+00\n",
              "500     9.853493e-01\n",
              "            ...     \n",
              "9500    1.320610e+11\n",
              "9600   -2.729181e+11\n",
              "9700    1.184847e+00\n",
              "9800    4.098847e+11\n",
              "9900    2.467433e+11\n",
              "Name: difference, Length: 99, dtype: float64"
            ]
          },
          "metadata": {
            "tags": []
          },
          "execution_count": 31
        }
      ]
    },
    {
      "cell_type": "code",
      "metadata": {
        "id": "Il_KdOt91pgk",
        "outputId": "4f824bbf-f83f-4e52-df6a-c9712f2212f9",
        "colab": {
          "base_uri": "https://localhost:8080/",
          "height": 575
        }
      },
      "source": [
        "ax = checks.groupby('N')['difference'].mean().plot(figsize=(9,6), linewidth=4)\n",
        "ax.set_ylabel(\"ATE (LPM, robust) - ATE (chi^2)\", fontsize=18)\n",
        "ax.set_xlabel(\"Combined sample size\", fontsize=18)\n",
        "ax.set_title(\"Compare ATE estimate\", fontsize=18)\n",
        "ax.tick_params(labelsize=18)"
      ],
      "execution_count": null,
      "outputs": [
        {
          "output_type": "display_data",
          "data": {
            "image/png": "[encoded data removed]",
            "text/plain": [
              "<Figure size 900x600 with 1 Axes>"
            ]
          },
          "metadata": {
            "tags": []
          }
        }
      ]
    },
    {
      "cell_type": "code",
      "metadata": {
        "id": "rxXRXn1ZFjUC"
      },
      "source": [
        ""
      ],
      "execution_count": null,
      "outputs": []
    },
    {
      "cell_type": "code",
      "metadata": {
        "id": "wUSppPd07BNg",
        "outputId": "05d3818d-79f9-437c-e9b7-2cebd86cb1a8",
        "colab": {
          "base_uri": "https://localhost:8080/",
          "height": 35
        }
      },
      "source": [
        ""
      ],
      "execution_count": null,
      "outputs": [
        {
          "output_type": "stream",
          "text": [
            "Rejection rate from power calculator =  0.35926368917297585\n"
          ],
          "name": "stdout"
        }
      ]
    },
    {
      "cell_type": "code",
      "metadata": {
        "id": "xbfg-4iBFkD8"
      },
      "source": [
        "def draw_one_sample_two_groups(ATE, mu, sigma, n, share_treatment):\n",
        "  \n",
        "    units = np.arange(0, n)\n",
        "    treatment_units = np.random.choice(units, int(len(units) * share_treatment), replace=False)\n",
        "    df = pd.DataFrame({'i': units})\n",
        "\n",
        "    df['d'] = df['i'].isin(treatment_units).astype('float')\n",
        "   \n",
        "    Yi = np.random.normal(loc=mu + ATE * df['d'], scale=sigma, size=n)\n",
        "    df['y'] = Yi\n",
        "    return df\n",
        "\n",
        "  \n",
        "def get_difference_in_means(df):\n",
        "\n",
        "    means = df.groupby('d')['y'].mean()\n",
        "    diff = means.loc[1] - means.loc[0]\n",
        "\n",
        "    N = df.shape[0]\n",
        "    N_treatment = df['d'].sum()\n",
        "    \n",
        "    return {\n",
        "        'N': N,\n",
        "        'N_treatment': N_treatment,\n",
        "        'mean_treatment': means.loc[1],\n",
        "        'mean_control': means.loc[0],\n",
        "        'diff': diff\n",
        "    }"
      ],
      "execution_count": null,
      "outputs": []
    },
    {
      "cell_type": "code",
      "metadata": {
        "id": "AafJIC8oKSUi",
        "outputId": "ca1c4bba-9409-410e-e466-f38f8d91a57d",
        "colab": {
          "base_uri": "https://localhost:8080/",
          "height": 52
        }
      },
      "source": [
        "mu = 0.5\n",
        "sigma = 1\n",
        "\n",
        "b = 500  # Total number of *samples* to generate\n",
        "n = 1000  # The number of data points in each sample\n",
        "\n",
        "share_treatment = 0.5\n",
        "\n",
        "ATE = 0.8\n",
        "list_of_samples = [draw_one_sample_two_groups(ATE=ATE, mu=mu, sigma=sigma, n=n, share_treatment=share_treatment) for _ in progressbar(range(0, b))]\n",
        "sample_results = pd.DataFrame([get_difference_in_means(sample) for sample in progressbar(list_of_samples)])\n",
        "\n",
        "assert((sample_results['N'] == n).all())\n",
        "assert((sample_results['N_treatment'] == int(n * share_treatment)).all())"
      ],
      "execution_count": null,
      "outputs": [
        {
          "output_type": "stream",
          "text": [
            "100% (500 of 500) |######################| Elapsed Time: 0:00:01 Time:  0:00:01\n",
            "100% (500 of 500) |######################| Elapsed Time: 0:00:00 Time:  0:00:00\n"
          ],
          "name": "stderr"
        }
      ]
    },
    {
      "cell_type": "code",
      "metadata": {
        "id": "urWHVbYsK_UQ",
        "outputId": "15e1179e-7c21-4c63-a87c-cee8782e2916",
        "colab": {
          "base_uri": "https://localhost:8080/",
          "height": 587
        }
      },
      "source": [
        "ax = sample_results['diff'].hist(bins=100, density=True)\n",
        "\n",
        "# Normal PDF assuming equally-sized treatment and control groups\n",
        "normal_pdf = partial(scipy.stats.norm.pdf, loc=0.3, scale=(sigma * np.sqrt((2/n) + 2/n)))\n",
        "grid_of_x_values = np.arange(-0.05, 1.0, 0.02)\n",
        "pdf = pd.DataFrame({'x': grid_of_x_values})\n",
        "pdf['fx'] = pdf['x'].apply(normal_pdf)\n",
        "# pdf.plot(x='x', y='fx', ax=ax, linewidth=2, alpha=0.85, color='black', label=r'Theoretical density: 50/50 split')\n",
        "\n",
        "\n",
        "# Add a vertical marker line and labels\n",
        "# This time we will graph the mean of the probability distribution.\n",
        "ax.axvline(ATE, color='black', linestyle='--')\n",
        "ax.text(x=ATE, y=pdf['fx'].max()*0.05, s=r'$ATE$', fontsize=16)\n",
        "ax.set_xlabel('estimate', fontsize=16)\n",
        "ax.set_ylabel('Density', fontsize=16)\n",
        "ax.set_title(\"Simulating the sampling distribution of the mean\", fontsize=16)\n",
        "ax.legend(fontsize=10)\n",
        "ax.tick_params(labelsize=16)\n",
        "\n",
        "print(sample_results['diff'].describe())"
      ],
      "execution_count": null,
      "outputs": [
        {
          "output_type": "stream",
          "text": [
            "No handles with labels found to put in legend.\n"
          ],
          "name": "stderr"
        },
        {
          "output_type": "stream",
          "text": [
            "count    500.000000\n",
            "mean       0.801208\n",
            "std        0.061976\n",
            "min        0.612990\n",
            "25%        0.756260\n",
            "50%        0.799293\n",
            "75%        0.847702\n",
            "max        0.960656\n",
            "Name: diff, dtype: float64\n"
          ],
          "name": "stdout"
        },
        {
          "output_type": "display_data",
          "data": {
            "image/png": "[encoded data removed]",
            "text/plain": [
              "<Figure size 600x400 with 1 Axes>"
            ]
          },
          "metadata": {
            "tags": []
          }
        }
      ]
    },
    {
      "cell_type": "code",
      "metadata": {
        "id": "xRC8UALeLy8H"
      },
      "source": [
        "def get_ttest_analysis(df):    \n",
        "    # A slower way to do this:\n",
        "    treatment_group =  (df['d'] == 1)\n",
        "    #diff = df.loc[treatment_group, 'y'].mean() - df.loc[~treatment_group, 'y'].mean()\n",
        "    results = scipy.stats.ttest_ind(\n",
        "        df.loc[treatment_group, 'y'], \n",
        "        df.loc[~treatment_group, 'y'])\n",
        "    return {'t': results.statistic, 'p': results.pvalue}\n",
        "\n",
        "def get_difference_in_means_with_ttest(df, alpha):\n",
        "    # Calculate means by each group. Then take the difference and do a t-test.\n",
        "    means = df.groupby('d')['y'].mean()\n",
        "    diff = means.loc[1] - means.loc[0]\n",
        "\n",
        "    N = df.shape[0]\n",
        "    N_treatment = df['d'].sum()\n",
        "    ttest_results = get_ttest_analysis(df)\n",
        "    reject_null = (ttest_results['p'] < alpha).astype('float')\n",
        "    \n",
        "    return {\n",
        "        'N': N,\n",
        "        'N_treatment': N_treatment,\n",
        "        'mean_treatment': means.loc[1],\n",
        "        'mean_control': means.loc[0],\n",
        "        'diff': diff,\n",
        "        't': ttest_results['t'],\n",
        "        'p': ttest_results['p'],\n",
        "        'reject_null': reject_null\n",
        "    }\n",
        "\n",
        "def get_simulation_results(expectation_Y0, ATE, share_treatment, n, B, sigma, alpha):\n",
        "  params = dict(ATE=ATE, mu=expectation_Y0, n=n, share_treatment=share_treatment, sigma=sigma)\n",
        "  list_of_samples = [draw_one_sample_two_groups(**params) for _ in progressbar(range(0, B))]\n",
        "  simulations = pd.DataFrame([get_difference_in_means_with_ttest(sample, alpha) for sample in progressbar(list_of_samples)])\n",
        "  \n",
        "  # Return a summary of the simulations and the specified paramters.\n",
        "  return {\n",
        "      'diff_mean': simulations['diff'].mean(),\n",
        "      'diff_std': simulations['diff'].std(),\n",
        "      't_mean': simulations['t'].mean(),\n",
        "      't_std': simulations['t'].std(),\n",
        "      'alpha': alpha,\n",
        "      'p_reject': simulations['reject_null'].mean(),\n",
        "      'B': B,\n",
        "      'N': simulations['N'].mean(),\n",
        "      'N_treatment': simulations['N_treatment'].mean(),\n",
        "      'share_treatment': share_treatment,\n",
        "      'expectation_Y0': expectation_Y0,\n",
        "      'sigma': sigma,\n",
        "      'ATE': ATE\n",
        "  }"
      ],
      "execution_count": null,
      "outputs": []
    },
    {
      "cell_type": "code",
      "metadata": {
        "id": "iZUFc1dXL6HE",
        "outputId": "31296e77-689f-4ebe-a86e-07101cac2414",
        "colab": {
          "base_uri": "https://localhost:8080/",
          "height": 86
        }
      },
      "source": [
        "B = 500\n",
        "ATE = 0.0\n",
        "parameter_grid = [\n",
        "    dict(B = B, n = 100, expectation_Y0 = 0.5, ATE = ATE, share_treatment = 0.20, sigma = 1, alpha = 0.05),\n",
        "    dict(B = B, n = 100, expectation_Y0 = 0.5, ATE = ATE, share_treatment = 0.50, sigma = 1, alpha = 0.05),\n",
        "]\n",
        "\n",
        "simulation_results =  pd.DataFrame([get_simulation_results(**params) for params in parameter_grid])\n",
        "\n",
        "# We can also test that the simulations worked as expected.\n",
        "# For example:\n",
        "assert((simulation_results['share_treatment'] == simulation_results.eval(\"N_treatment / N\")).all())"
      ],
      "execution_count": null,
      "outputs": [
        {
          "output_type": "stream",
          "text": [
            "100% (500 of 500) |######################| Elapsed Time: 0:00:01 Time:  0:00:01\n",
            "100% (500 of 500) |######################| Elapsed Time: 0:00:01 Time:  0:00:01\n",
            "100% (500 of 500) |######################| Elapsed Time: 0:00:01 Time:  0:00:01\n",
            "100% (500 of 500) |######################| Elapsed Time: 0:00:01 Time:  0:00:01\n"
          ],
          "name": "stderr"
        }
      ]
    },
    {
      "cell_type": "code",
      "metadata": {
        "id": "hNY2IVBFO0Oz",
        "outputId": "aaba182e-6299-4770-ec3b-12f5710a93d2",
        "colab": {
          "base_uri": "https://localhost:8080/",
          "height": 108
        }
      },
      "source": [
        "simulation_results"
      ],
      "execution_count": null,
      "outputs": [
        {
          "output_type": "execute_result",
          "data": {
            "text/html": [
              "<div>\n",
              "<style scoped>\n",
              "    .dataframe tbody tr th:only-of-type {\n",
              "        vertical-align: middle;\n",
              "    }\n",
              "\n",
              "    .dataframe tbody tr th {\n",
              "        vertical-align: top;\n",
              "    }\n",
              "\n",
              "    .dataframe thead th {\n",
              "        text-align: right;\n",
              "    }\n",
              "</style>\n",
              "<table border=\"1\" class=\"dataframe\">\n",
              "  <thead>\n",
              "    <tr style=\"text-align: right;\">\n",
              "      <th></th>\n",
              "      <th>diff_mean</th>\n",
              "      <th>diff_std</th>\n",
              "      <th>t_mean</th>\n",
              "      <th>t_std</th>\n",
              "      <th>alpha</th>\n",
              "      <th>p_reject</th>\n",
              "      <th>B</th>\n",
              "      <th>N</th>\n",
              "      <th>N_treatment</th>\n",
              "      <th>share_treatment</th>\n",
              "      <th>expectation_Y0</th>\n",
              "      <th>sigma</th>\n",
              "      <th>ATE</th>\n",
              "    </tr>\n",
              "  </thead>\n",
              "  <tbody>\n",
              "    <tr>\n",
              "      <th>0</th>\n",
              "      <td>-0.017185</td>\n",
              "      <td>0.245712</td>\n",
              "      <td>-0.068882</td>\n",
              "      <td>0.997174</td>\n",
              "      <td>0.05</td>\n",
              "      <td>0.056</td>\n",
              "      <td>500</td>\n",
              "      <td>100.0</td>\n",
              "      <td>20.0</td>\n",
              "      <td>0.2</td>\n",
              "      <td>0.5</td>\n",
              "      <td>1</td>\n",
              "      <td>0.0</td>\n",
              "    </tr>\n",
              "    <tr>\n",
              "      <th>1</th>\n",
              "      <td>-0.010480</td>\n",
              "      <td>0.200923</td>\n",
              "      <td>-0.049364</td>\n",
              "      <td>1.009630</td>\n",
              "      <td>0.05</td>\n",
              "      <td>0.048</td>\n",
              "      <td>500</td>\n",
              "      <td>100.0</td>\n",
              "      <td>50.0</td>\n",
              "      <td>0.5</td>\n",
              "      <td>0.5</td>\n",
              "      <td>1</td>\n",
              "      <td>0.0</td>\n",
              "    </tr>\n",
              "  </tbody>\n",
              "</table>\n",
              "</div>"
            ],
            "text/plain": [
              "   diff_mean  diff_std    t_mean  ...  expectation_Y0  sigma  ATE\n",
              "0  -0.017185  0.245712 -0.068882  ...             0.5      1  0.0\n",
              "1  -0.010480  0.200923 -0.049364  ...             0.5      1  0.0\n",
              "\n",
              "[2 rows x 13 columns]"
            ]
          },
          "metadata": {
            "tags": []
          },
          "execution_count": 105
        }
      ]
    },
    {
      "cell_type": "code",
      "metadata": {
        "id": "IZ3hPhvladX7",
        "outputId": "5e9ab3ed-ea8a-42b1-8182-340e2ec70bfe",
        "colab": {
          "base_uri": "https://localhost:8080/",
          "height": 399
        }
      },
      "source": [
        "ax = simulation_results.groupby('share_treatment')['p_reject'].mean().plot()\n",
        "ax.set_xlabel(\"share treatment\")\n",
        "ax.set_ylabel(\"false positive rate\")\n",
        "ax.set_ylim(0, 0.4)\n",
        "ax.axhline(0.05, color='grey', alpha=0.7)"
      ],
      "execution_count": null,
      "outputs": [
        {
          "output_type": "execute_result",
          "data": {
            "text/plain": [
              "<matplotlib.lines.Line2D at 0x7f8b529684e0>"
            ]
          },
          "metadata": {
            "tags": []
          },
          "execution_count": 117
        },
        {
          "output_type": "display_data",
          "data": {
            "image/png": "[encoded data removed]",
            "text/plain": [
              "<Figure size 600x400 with 1 Axes>"
            ]
          },
          "metadata": {
            "tags": []
          }
        }
      ]
    },
    {
      "cell_type": "code",
      "metadata": {
        "id": "xR0bjiWjSEf-"
      },
      "source": [
        "def get_ttest_analysis(df):    \n",
        "    # A slower way to do this:\n",
        "    treatment_group =  (df['d'] == 1)\n",
        "    #diff = df.loc[treatment_group, 'y'].mean() - df.loc[~treatment_group, 'y'].mean()\n",
        "    results = scipy.stats.ttest_ind(\n",
        "        df.loc[treatment_group, 'y'], \n",
        "        df.loc[~treatment_group, 'y'])\n",
        "    return {'t': results.statistic, 'p': results.pvalue}\n",
        "\n",
        "def get_difference_in_means_with_ttest(df, alpha):\n",
        "    # Calculate means by each group. Then take the difference and do a t-test.\n",
        "    means = df.groupby('d')['y'].mean()\n",
        "    diff = means.loc[1] - means.loc[0]\n",
        "\n",
        "    N = df.shape[0]\n",
        "    N_treatment = df['d'].sum()\n",
        "    ttest_results = get_ttest_analysis(df)\n",
        "    reject_null = (ttest_results['p'] < alpha).astype('float')\n",
        "    \n",
        "    return {\n",
        "        'N': N,\n",
        "        'N_treatment': N_treatment,\n",
        "        'mean_treatment': means.loc[1],\n",
        "        'mean_control': means.loc[0],\n",
        "        'diff': diff,\n",
        "        't': ttest_results['t'],\n",
        "        'p': ttest_results['p'],\n",
        "        'reject_null': reject_null\n",
        "    }\n",
        "\n",
        "def get_simulation_results(expectation_Y0, ATE, share_treatment, n, B, sigma, alpha):\n",
        "  params = dict(ATE=ATE, mu=expectation_Y0, n=n, share_treatment=share_treatment, sigma=sigma)\n",
        "  list_of_samples = [draw_one_sample_two_groups(**params) for _ in progressbar(range(0, B))]\n",
        "  simulations = pd.DataFrame([get_difference_in_means_with_ttest(sample, alpha) for sample in progressbar(list_of_samples)])\n",
        "  \n",
        "  # Return a summary of the simulations and the specified paramters.\n",
        "  return {\n",
        "      'diff_mean': simulations['diff'].mean(),\n",
        "      'diff_std': simulations['diff'].std(),\n",
        "      't_mean': simulations['t'].mean(),\n",
        "      't_std': simulations['t'].std(),\n",
        "      'alpha': alpha,\n",
        "      'p_reject': simulations['reject_null'].mean(),\n",
        "      'B': B,\n",
        "      'N': simulations['N'].mean(),\n",
        "      'N_treatment': simulations['N_treatment'].mean(),\n",
        "      'share_treatment': share_treatment,\n",
        "      'expectation_Y0': expectation_Y0,\n",
        "      'sigma': sigma,\n",
        "      'ATE': ATE\n",
        "  }"
      ],
      "execution_count": null,
      "outputs": []
    },
    {
      "cell_type": "code",
      "metadata": {
        "id": "b8hXko-gSMAv",
        "outputId": "cf059077-8002-4d5f-92c7-36c29db98975",
        "colab": {
          "base_uri": "https://localhost:8080/",
          "height": 121
        }
      },
      "source": [
        "B = 500\n",
        "ATE = 0.3\n",
        "parameter_grid = [\n",
        "    dict(B = B, n = 100, expectation_Y0 = 0.5, ATE = ATE, share_treatment = 0.20, sigma = 1, alpha = 0.05),\n",
        "    dict(B = B, n = 500, expectation_Y0 = 0.5, ATE = ATE, share_treatment = 0.20, sigma = 1, alpha = 0.05),\n",
        "    dict(B = B, n = 1000, expectation_Y0 = 0.5, ATE = ATE, share_treatment = 0.20, sigma = 1, alpha = 0.05),\n",
        "]\n",
        "\n",
        "simulation_results =  pd.DataFrame([get_simulation_results(**params) for params in parameter_grid])\n",
        "\n",
        "# We can also test that the simulations worked as expected.\n",
        "# For example:\n",
        "assert((simulation_results['share_treatment'] == simulation_results.eval(\"N_treatment / N\")).all())"
      ],
      "execution_count": null,
      "outputs": [
        {
          "output_type": "stream",
          "text": [
            "100% (500 of 500) |######################| Elapsed Time: 0:00:01 Time:  0:00:01\n",
            "100% (500 of 500) |######################| Elapsed Time: 0:00:01 Time:  0:00:01\n",
            "100% (500 of 500) |######################| Elapsed Time: 0:00:01 Time:  0:00:01\n",
            "100% (500 of 500) |######################| Elapsed Time: 0:00:01 Time:  0:00:01\n",
            "100% (500 of 500) |######################| Elapsed Time: 0:00:01 Time:  0:00:01\n",
            "100% (500 of 500) |######################| Elapsed Time: 0:00:01 Time:  0:00:01\n"
          ],
          "name": "stderr"
        }
      ]
    },
    {
      "cell_type": "code",
      "metadata": {
        "id": "KGRiKRe0SqWJ"
      },
      "source": [
        "ts02 = simulation_results"
      ],
      "execution_count": null,
      "outputs": []
    },
    {
      "cell_type": "code",
      "metadata": {
        "id": "muGepeN7TVRk",
        "outputId": "23d76985-3887-4178-8523-45caecdf492d",
        "colab": {
          "base_uri": "https://localhost:8080/",
          "height": 121
        }
      },
      "source": [
        "B = 500\n",
        "ATE = 0.3\n",
        "parameter_grid = [\n",
        "    dict(B = B, n = 100, expectation_Y0 = 0.5, ATE = ATE, share_treatment = 0.50, sigma = 1, alpha = 0.05),\n",
        "    dict(B = B, n = 500, expectation_Y0 = 0.5, ATE = ATE, share_treatment = 0.50, sigma = 1, alpha = 0.05),\n",
        "    dict(B = B, n = 1000, expectation_Y0 = 0.5, ATE = ATE, share_treatment = 0.50, sigma = 1, alpha = 0.05),\n",
        "]\n",
        "\n",
        "simulation_results =  pd.DataFrame([get_simulation_results(**params) for params in parameter_grid])\n",
        "\n",
        "# We can also test that the simulations worked as expected.\n",
        "# For example:\n",
        "assert((simulation_results['share_treatment'] == simulation_results.eval(\"N_treatment / N\")).all())"
      ],
      "execution_count": null,
      "outputs": [
        {
          "output_type": "stream",
          "text": [
            "100% (500 of 500) |######################| Elapsed Time: 0:00:01 Time:  0:00:01\n",
            "100% (500 of 500) |######################| Elapsed Time: 0:00:01 Time:  0:00:01\n",
            "100% (500 of 500) |######################| Elapsed Time: 0:00:01 Time:  0:00:01\n",
            "100% (500 of 500) |######################| Elapsed Time: 0:00:01 Time:  0:00:01\n",
            "100% (500 of 500) |######################| Elapsed Time: 0:00:01 Time:  0:00:01\n",
            "100% (500 of 500) |######################| Elapsed Time: 0:00:01 Time:  0:00:01\n"
          ],
          "name": "stderr"
        }
      ]
    },
    {
      "cell_type": "code",
      "metadata": {
        "id": "5aukptn0Uqq_"
      },
      "source": [
        "ts05 = simulation_results"
      ],
      "execution_count": null,
      "outputs": []
    },
    {
      "cell_type": "code",
      "metadata": {
        "id": "ac2vCxxxVV7Q",
        "outputId": "f3fc9990-7ed1-4cb1-acfe-fa800b439d49",
        "colab": {
          "base_uri": "https://localhost:8080/",
          "height": 138
        }
      },
      "source": [
        "ts02"
      ],
      "execution_count": null,
      "outputs": [
        {
          "output_type": "execute_result",
          "data": {
            "text/html": [
              "<div>\n",
              "<style scoped>\n",
              "    .dataframe tbody tr th:only-of-type {\n",
              "        vertical-align: middle;\n",
              "    }\n",
              "\n",
              "    .dataframe tbody tr th {\n",
              "        vertical-align: top;\n",
              "    }\n",
              "\n",
              "    .dataframe thead th {\n",
              "        text-align: right;\n",
              "    }\n",
              "</style>\n",
              "<table border=\"1\" class=\"dataframe\">\n",
              "  <thead>\n",
              "    <tr style=\"text-align: right;\">\n",
              "      <th></th>\n",
              "      <th>diff_mean</th>\n",
              "      <th>diff_std</th>\n",
              "      <th>t_mean</th>\n",
              "      <th>t_std</th>\n",
              "      <th>alpha</th>\n",
              "      <th>p_reject</th>\n",
              "      <th>B</th>\n",
              "      <th>N</th>\n",
              "      <th>N_treatment</th>\n",
              "      <th>share_treatment</th>\n",
              "      <th>expectation_Y0</th>\n",
              "      <th>sigma</th>\n",
              "      <th>ATE</th>\n",
              "    </tr>\n",
              "  </thead>\n",
              "  <tbody>\n",
              "    <tr>\n",
              "      <th>0</th>\n",
              "      <td>0.295173</td>\n",
              "      <td>0.248321</td>\n",
              "      <td>1.177067</td>\n",
              "      <td>0.988166</td>\n",
              "      <td>0.05</td>\n",
              "      <td>0.224</td>\n",
              "      <td>500</td>\n",
              "      <td>100.0</td>\n",
              "      <td>20.0</td>\n",
              "      <td>0.2</td>\n",
              "      <td>0.5</td>\n",
              "      <td>1</td>\n",
              "      <td>0.3</td>\n",
              "    </tr>\n",
              "    <tr>\n",
              "      <th>1</th>\n",
              "      <td>0.305356</td>\n",
              "      <td>0.110763</td>\n",
              "      <td>2.740153</td>\n",
              "      <td>1.004796</td>\n",
              "      <td>0.05</td>\n",
              "      <td>0.774</td>\n",
              "      <td>500</td>\n",
              "      <td>500.0</td>\n",
              "      <td>100.0</td>\n",
              "      <td>0.2</td>\n",
              "      <td>0.5</td>\n",
              "      <td>1</td>\n",
              "      <td>0.3</td>\n",
              "    </tr>\n",
              "    <tr>\n",
              "      <th>2</th>\n",
              "      <td>0.306107</td>\n",
              "      <td>0.075509</td>\n",
              "      <td>3.882549</td>\n",
              "      <td>0.967261</td>\n",
              "      <td>0.05</td>\n",
              "      <td>0.978</td>\n",
              "      <td>500</td>\n",
              "      <td>1000.0</td>\n",
              "      <td>200.0</td>\n",
              "      <td>0.2</td>\n",
              "      <td>0.5</td>\n",
              "      <td>1</td>\n",
              "      <td>0.3</td>\n",
              "    </tr>\n",
              "  </tbody>\n",
              "</table>\n",
              "</div>"
            ],
            "text/plain": [
              "   diff_mean  diff_std    t_mean  ...  expectation_Y0  sigma  ATE\n",
              "0   0.295173  0.248321  1.177067  ...             0.5      1  0.3\n",
              "1   0.305356  0.110763  2.740153  ...             0.5      1  0.3\n",
              "2   0.306107  0.075509  3.882549  ...             0.5      1  0.3\n",
              "\n",
              "[3 rows x 13 columns]"
            ]
          },
          "metadata": {
            "tags": []
          },
          "execution_count": 71
        }
      ]
    },
    {
      "cell_type": "code",
      "metadata": {
        "id": "-QuRYRCiWGmD"
      },
      "source": [
        ""
      ],
      "execution_count": null,
      "outputs": []
    },
    {
      "cell_type": "code",
      "metadata": {
        "id": "tL0KmntYVWHI",
        "outputId": "fd94a79e-39fc-4161-a783-750ed6bce455",
        "colab": {
          "base_uri": "https://localhost:8080/",
          "height": 138
        }
      },
      "source": [
        "ts05"
      ],
      "execution_count": null,
      "outputs": [
        {
          "output_type": "execute_result",
          "data": {
            "text/html": [
              "<div>\n",
              "<style scoped>\n",
              "    .dataframe tbody tr th:only-of-type {\n",
              "        vertical-align: middle;\n",
              "    }\n",
              "\n",
              "    .dataframe tbody tr th {\n",
              "        vertical-align: top;\n",
              "    }\n",
              "\n",
              "    .dataframe thead th {\n",
              "        text-align: right;\n",
              "    }\n",
              "</style>\n",
              "<table border=\"1\" class=\"dataframe\">\n",
              "  <thead>\n",
              "    <tr style=\"text-align: right;\">\n",
              "      <th></th>\n",
              "      <th>diff_mean</th>\n",
              "      <th>diff_std</th>\n",
              "      <th>t_mean</th>\n",
              "      <th>t_std</th>\n",
              "      <th>alpha</th>\n",
              "      <th>p_reject</th>\n",
              "      <th>B</th>\n",
              "      <th>N</th>\n",
              "      <th>N_treatment</th>\n",
              "      <th>share_treatment</th>\n",
              "      <th>expectation_Y0</th>\n",
              "      <th>sigma</th>\n",
              "      <th>ATE</th>\n",
              "    </tr>\n",
              "  </thead>\n",
              "  <tbody>\n",
              "    <tr>\n",
              "      <th>0</th>\n",
              "      <td>0.306980</td>\n",
              "      <td>0.195423</td>\n",
              "      <td>1.546582</td>\n",
              "      <td>0.984097</td>\n",
              "      <td>0.05</td>\n",
              "      <td>0.348</td>\n",
              "      <td>500</td>\n",
              "      <td>100.0</td>\n",
              "      <td>50.0</td>\n",
              "      <td>0.5</td>\n",
              "      <td>0.5</td>\n",
              "      <td>1</td>\n",
              "      <td>0.3</td>\n",
              "    </tr>\n",
              "    <tr>\n",
              "      <th>1</th>\n",
              "      <td>0.299047</td>\n",
              "      <td>0.086878</td>\n",
              "      <td>3.349471</td>\n",
              "      <td>0.980499</td>\n",
              "      <td>0.05</td>\n",
              "      <td>0.934</td>\n",
              "      <td>500</td>\n",
              "      <td>500.0</td>\n",
              "      <td>250.0</td>\n",
              "      <td>0.5</td>\n",
              "      <td>0.5</td>\n",
              "      <td>1</td>\n",
              "      <td>0.3</td>\n",
              "    </tr>\n",
              "    <tr>\n",
              "      <th>2</th>\n",
              "      <td>0.304737</td>\n",
              "      <td>0.065517</td>\n",
              "      <td>4.822116</td>\n",
              "      <td>1.040998</td>\n",
              "      <td>0.05</td>\n",
              "      <td>0.998</td>\n",
              "      <td>500</td>\n",
              "      <td>1000.0</td>\n",
              "      <td>500.0</td>\n",
              "      <td>0.5</td>\n",
              "      <td>0.5</td>\n",
              "      <td>1</td>\n",
              "      <td>0.3</td>\n",
              "    </tr>\n",
              "  </tbody>\n",
              "</table>\n",
              "</div>"
            ],
            "text/plain": [
              "   diff_mean  diff_std    t_mean  ...  expectation_Y0  sigma  ATE\n",
              "0   0.306980  0.195423  1.546582  ...             0.5      1  0.3\n",
              "1   0.299047  0.086878  3.349471  ...             0.5      1  0.3\n",
              "2   0.304737  0.065517  4.822116  ...             0.5      1  0.3\n",
              "\n",
              "[3 rows x 13 columns]"
            ]
          },
          "metadata": {
            "tags": []
          },
          "execution_count": 72
        }
      ]
    },
    {
      "cell_type": "code",
      "metadata": {
        "id": "JJTimTWzW81O",
        "outputId": "f575df4e-151d-404e-f406-4a1b5d73b8df",
        "colab": {
          "base_uri": "https://localhost:8080/",
          "height": 138
        }
      },
      "source": [
        "ts05.iloc[:,[5,8]]"
      ],
      "execution_count": null,
      "outputs": [
        {
          "output_type": "execute_result",
          "data": {
            "text/html": [
              "<div>\n",
              "<style scoped>\n",
              "    .dataframe tbody tr th:only-of-type {\n",
              "        vertical-align: middle;\n",
              "    }\n",
              "\n",
              "    .dataframe tbody tr th {\n",
              "        vertical-align: top;\n",
              "    }\n",
              "\n",
              "    .dataframe thead th {\n",
              "        text-align: right;\n",
              "    }\n",
              "</style>\n",
              "<table border=\"1\" class=\"dataframe\">\n",
              "  <thead>\n",
              "    <tr style=\"text-align: right;\">\n",
              "      <th></th>\n",
              "      <th>p_reject</th>\n",
              "      <th>N_treatment</th>\n",
              "    </tr>\n",
              "  </thead>\n",
              "  <tbody>\n",
              "    <tr>\n",
              "      <th>0</th>\n",
              "      <td>0.348</td>\n",
              "      <td>50.0</td>\n",
              "    </tr>\n",
              "    <tr>\n",
              "      <th>1</th>\n",
              "      <td>0.934</td>\n",
              "      <td>250.0</td>\n",
              "    </tr>\n",
              "    <tr>\n",
              "      <th>2</th>\n",
              "      <td>0.998</td>\n",
              "      <td>500.0</td>\n",
              "    </tr>\n",
              "  </tbody>\n",
              "</table>\n",
              "</div>"
            ],
            "text/plain": [
              "   p_reject  N_treatment\n",
              "0     0.348         50.0\n",
              "1     0.934        250.0\n",
              "2     0.998        500.0"
            ]
          },
          "metadata": {
            "tags": []
          },
          "execution_count": 82
        }
      ]
    },
    {
      "cell_type": "code",
      "metadata": {
        "id": "szXgUk95WIEm",
        "outputId": "0b9b3517-fd24-4023-87a3-ffe63b679b02",
        "colab": {
          "base_uri": "https://localhost:8080/",
          "height": 395
        }
      },
      "source": [
        "ax = ts05.groupby('N')['p_reject'].mean().plot()\n",
        "ax = ts02.groupby('N')['p_reject'].mean().plot()\n",
        "ax.set_xlabel(\"sample size\")\n",
        "ax.set_ylabel(\"Simulated power\")\n",
        "style05 = dict(size=10, color='blue')\n",
        "style02 = dict(size=10, color='orange')\n",
        "ax.text(200, 0.9, \"share_treatment = 0.5\", **style05)\n",
        "ax.text(700, 0.8, \"share_treatment = 0.2\", **style02)"
      ],
      "execution_count": null,
      "outputs": [
        {
          "output_type": "execute_result",
          "data": {
            "text/plain": [
              "Text(700, 0.8, 'share_treatment = 0.2')"
            ]
          },
          "metadata": {
            "tags": []
          },
          "execution_count": 100
        },
        {
          "output_type": "display_data",
          "data": {
            "image/png": "[encoded data removed]",
            "text/plain": [
              "<Figure size 600x400 with 1 Axes>"
            ]
          },
          "metadata": {
            "tags": []
          }
        }
      ]
    },
    {
      "cell_type": "code",
      "metadata": {
        "id": "MJHli6ajiQxK",
        "outputId": "81addf19-1641-4543-baf3-dcf6474b3ca7",
        "colab": {
          "base_uri": "https://localhost:8080/",
          "height": 35
        }
      },
      "source": [
        "calculated_power = power.tt_ind_solve_power(\n",
        "    effect_size= 0.3/ 1,\n",
        "    alpha=0.05,\n",
        "    nobs1= 500/2,\n",
        "    ratio= 50/50,\n",
        ")\n",
        "\n",
        "# Compare these two!\n",
        "print(\"Rejection rate from power calculator when treatment share is 50/50= \", calculated_power)"
      ],
      "execution_count": null,
      "outputs": [
        {
          "output_type": "stream",
          "text": [
            "Rejection rate from power calculator when treatment share is 50/50=  0.9173801660338057\n"
          ],
          "name": "stdout"
        }
      ]
    },
    {
      "cell_type": "code",
      "metadata": {
        "id": "3-YVIenJkm15",
        "outputId": "b84f5679-aa48-4476-8220-965ea7b312f3",
        "colab": {
          "base_uri": "https://localhost:8080/",
          "height": 35
        }
      },
      "source": [
        "calculated_power = power.tt_ind_solve_power(\n",
        "    effect_size= 0.3/ 1,\n",
        "    alpha=0.05,\n",
        "    nobs1= 400,\n",
        "    ratio= 20/80,\n",
        ")\n",
        "\n",
        "# Compare these two!\n",
        "print(\"Rejection rate from power calculator when treatment share is 20/80= \", calculated_power)"
      ],
      "execution_count": null,
      "outputs": [
        {
          "output_type": "stream",
          "text": [
            "Rejection rate from power calculator when treatment share is 20/80=  0.7636661636652091\n"
          ],
          "name": "stdout"
        }
      ]
    },
    {
      "cell_type": "code",
      "metadata": {
        "id": "7V6UkafVoH39",
        "outputId": "4c6c97c0-fc13-4fd9-ba28-332389c98204",
        "colab": {
          "base_uri": "https://localhost:8080/",
          "height": 35
        }
      },
      "source": [
        "calculated_power = power.tt_ind_solve_power(\n",
        "    effect_size= 0.8/ 1,\n",
        "    alpha=0.05,\n",
        "    nobs1= 54/2,\n",
        "    ratio= 50/50,\n",
        ")\n",
        "\n",
        "# Compare these two!\n",
        "print(\"When N= 52, alpha = 0.05, power= \", calculated_power)"
      ],
      "execution_count": null,
      "outputs": [
        {
          "output_type": "stream",
          "text": [
            "When N= 360, alpha = 0.05, power=  0.8224488409647742\n"
          ],
          "name": "stdout"
        }
      ]
    },
    {
      "cell_type": "code",
      "metadata": {
        "id": "ci_wsj36qwPW"
      },
      "source": [
        "np.random.seed(94115)\n",
        "\n",
        "N = 1600\n",
        "\n",
        "# Each child's family on has an individual level of \"econ_status\".\n",
        "# We'll model this charitability as being normally distributed.\n",
        "econ_status = np.random.normal(loc=0, scale=0.5, size=N)\n",
        "pro_status= []\n",
        "label = []\n",
        "for i in econ_status: \n",
        "  if i < -0.34: pro_status.append(0.25), label.append('low')\n",
        "  if -0.34<i<0.3: pro_status.append(0.5), label.append('medium')\n",
        "  if i>0.3: pro_status.append(0.75), label.append('high')\n",
        "\n",
        "ATE = 0.0\n",
        "Y0 = np.random.lognormal(mean=(econ_status + 0.5), sigma=0.1, size=N)\n",
        "Y1 = Y0.copy()+ ATE\n",
        "\n",
        "#pro_econ_status = scipy.special.expit(econ_status)\n",
        "D = np.random.binomial(n=1, p=pro_status)\n",
        "\n",
        "# Calculate the *actual* outcome.\n",
        "Y = Y1 * D + Y0 * (1 - D)\n",
        "\n",
        "# Put the data together for analysis.\n",
        "df = pd.DataFrame({\n",
        "    'D': D,\n",
        "    'Y0': Y0, \n",
        "    'Y1': Y1, \n",
        "    'Y': Y,\n",
        "    'y1-y0': Y1 - Y0,\n",
        "    'econ_status': econ_status,\n",
        "    'econ_status_label': label\n",
        "})"
      ],
      "execution_count": null,
      "outputs": []
    },
    {
      "cell_type": "code",
      "metadata": {
        "id": "H5pxrbrJxptU",
        "outputId": "cc9b065b-c373-4e31-f330-b48705b0e8a0",
        "colab": {
          "base_uri": "https://localhost:8080/",
          "height": 501
        }
      },
      "source": [
        "r = sfa.ols(\"Y ~ D + C(econ_status_label)\", df).fit(cov_type='HC1')\n",
        "\n",
        "print(\"Estimate of ATE = {:.5f}\".format(r.params['D']))\n",
        "print(r.summary(yname=\"Conversion\"))"
      ],
      "execution_count": null,
      "outputs": [
        {
          "output_type": "stream",
          "text": [
            "Estimate of ATE = -0.01609\n",
            "                            OLS Regression Results                            \n",
            "==============================================================================\n",
            "Dep. Variable:             Conversion   R-squared:                       0.665\n",
            "Model:                            OLS   Adj. R-squared:                  0.664\n",
            "Method:                 Least Squares   F-statistic:                     1176.\n",
            "Date:                Mon, 19 Oct 2020   Prob (F-statistic):               0.00\n",
            "Time:                        21:31:56   Log-Likelihood:                -1404.7\n",
            "No. Observations:                1600   AIC:                             2817.\n",
            "Df Residuals:                    1596   BIC:                             2839.\n",
            "Df Model:                           3                                         \n",
            "Covariance Type:                  HC1                                         \n",
            "==================================================================================================\n",
            "                                     coef    std err          z      P>|z|      [0.025      0.975]\n",
            "--------------------------------------------------------------------------------------------------\n",
            "Intercept                          3.1371      0.049     63.804      0.000       3.041       3.233\n",
            "C(econ_status_label)[T.low]       -2.2046      0.048    -45.642      0.000      -2.299      -2.110\n",
            "C(econ_status_label)[T.medium]    -1.4712      0.048    -30.721      0.000      -1.565      -1.377\n",
            "D                                 -0.0161      0.028     -0.574      0.566      -0.071       0.039\n",
            "==============================================================================\n",
            "Omnibus:                     1088.429   Durbin-Watson:                   2.026\n",
            "Prob(Omnibus):                  0.000   Jarque-Bera (JB):            25736.941\n",
            "Skew:                           2.833   Prob(JB):                         0.00\n",
            "Kurtosis:                      21.814   Cond. No.                         5.35\n",
            "==============================================================================\n",
            "\n",
            "Warnings:\n",
            "[1] Standard Errors are heteroscedasticity robust (HC1)\n"
          ],
          "name": "stdout"
        }
      ]
    }
  ]
}